{
 "cells": [
  {
   "cell_type": "code",
   "execution_count": 1,
   "id": "b79c74bd",
   "metadata": {},
   "outputs": [
    {
     "ename": "ModuleNotFoundError",
     "evalue": "No module named 'datasets'",
     "output_type": "error",
     "traceback": [
      "\u001b[0;31m---------------------------------------------------------------------------\u001b[0m",
      "\u001b[0;31mModuleNotFoundError\u001b[0m                       Traceback (most recent call last)",
      "Cell \u001b[0;32mIn[1], line 5\u001b[0m\n\u001b[1;32m      3\u001b[0m \u001b[38;5;28;01mimport\u001b[39;00m \u001b[38;5;21;01mpyarrow\u001b[39;00m\u001b[38;5;21;01m.\u001b[39;00m\u001b[38;5;21;01mfeather\u001b[39;00m \u001b[38;5;28;01mas\u001b[39;00m \u001b[38;5;21;01mfeather\u001b[39;00m\n\u001b[1;32m      4\u001b[0m \u001b[38;5;28;01mimport\u001b[39;00m \u001b[38;5;21;01mpyarrow\u001b[39;00m\u001b[38;5;21;01m.\u001b[39;00m\u001b[38;5;21;01mparquet\u001b[39;00m \u001b[38;5;28;01mas\u001b[39;00m \u001b[38;5;21;01mpq\u001b[39;00m\n\u001b[0;32m----> 5\u001b[0m \u001b[38;5;28;01mfrom\u001b[39;00m \u001b[38;5;21;01mdatasets\u001b[39;00m \u001b[38;5;28;01mimport\u001b[39;00m load_dataset\n\u001b[1;32m      6\u001b[0m \u001b[38;5;28;01mfrom\u001b[39;00m \u001b[38;5;21;01mconcurrent\u001b[39;00m\u001b[38;5;21;01m.\u001b[39;00m\u001b[38;5;21;01mfutures\u001b[39;00m \u001b[38;5;28;01mimport\u001b[39;00m ProcessPoolExecutor, as_completed\n\u001b[1;32m      7\u001b[0m \u001b[38;5;28;01mfrom\u001b[39;00m \u001b[38;5;21;01mdatetime\u001b[39;00m \u001b[38;5;28;01mimport\u001b[39;00m datetime\n",
      "\u001b[0;31mModuleNotFoundError\u001b[0m: No module named 'datasets'"
     ]
    }
   ],
   "source": [
    "import os\n",
    "import pyarrow as pa\n",
    "import pyarrow.feather as feather\n",
    "import pyarrow.parquet as pq\n",
    "from datasets import load_dataset\n",
    "from concurrent.futures import ProcessPoolExecutor, as_completed\n",
    "from datetime import datetime\n",
    "import logging"
   ]
  },
  {
   "cell_type": "code",
   "execution_count": null,
   "id": "06542eab",
   "metadata": {
    "lines_to_next_cell": 1
   },
   "outputs": [],
   "source": [
    "# Configure logging\n",
    "logging.basicConfig(\n",
    "    filename='download_american_stories_data.log',\n",
    "    level=logging.INFO,\n",
    "    format='%(asctime)s - %(levelname)s - %(message)s'\n",
    ")"
   ]
  },
  {
   "cell_type": "code",
   "execution_count": null,
   "id": "f4de68ce",
   "metadata": {
    "lines_to_next_cell": 1
   },
   "outputs": [],
   "source": [
    "def download_article_dataset_for_year(year_value):\n",
    "    \"\"\"\n",
    "    Function to download all articles for a given year and save to Parquet and Apache Arrow formats.\n",
    "    \n",
    "    Parameters:\n",
    "    year_value (str): Year to download articles for.\n",
    "    \"\"\"\n",
    "    try:\n",
    "        # Load the dataset for the specified year\n",
    "        dataset_article_level = load_dataset(\"dell-research-harvard/AmericanStories\",\n",
    "                                             \"subset_years\",\n",
    "                                             year_list=[year_value],\n",
    "                                             trust_remote_code=True\n",
    "                                             )\n",
    "        \n",
    "        # Collect all articles into a list of dictionaries\n",
    "        articles_list = []\n",
    "        for article_n in range(len(dataset_article_level[year_value])):\n",
    "            article = dataset_article_level[year_value][article_n]\n",
    "            articles_list.append(article)\n",
    "        \n",
    "        # Convert the list of dictionaries to an Arrow Table\n",
    "        table = pa.Table.from_pydict({k: [d[k] for d in articles_list] for k in articles_list[0]})\n",
    "        \n",
    "        # Create output directories if they don't exist\n",
    "        base_output_dir = \"data_by_year/\"\n",
    "        parquet_dir = os.path.join(base_output_dir, \"parquet\")\n",
    "        arrow_dir = os.path.join(base_output_dir, \"arrow\")\n",
    "        os.makedirs(parquet_dir, exist_ok=True)\n",
    "        os.makedirs(arrow_dir, exist_ok=True)\n",
    "        \n",
    "        # Write to Parquet\n",
    "        output_file_parquet = os.path.join(parquet_dir, f\"articles_{year_value}.parquet\")\n",
    "        pq.write_table(table, output_file_parquet)\n",
    "        \n",
    "        # Write to Feather (Apache Arrow)\n",
    "        output_file_feather = os.path.join(arrow_dir, f\"articles_{year_value}.feather\")\n",
    "        with pa.OSFile(output_file_feather, 'wb') as f:\n",
    "            feather.write_feather(table, f)\n",
    "        \n",
    "        logging.info(f\"Successfully downloaded and saved data for year {year_value}\")\n",
    "    except Exception as e:\n",
    "        logging.error(f\"Error downloading data for year {year_value}: {e}\")"
   ]
  },
  {
   "cell_type": "code",
   "execution_count": null,
   "id": "9d155189",
   "metadata": {
    "lines_to_next_cell": 1
   },
   "outputs": [],
   "source": [
    "def process_year(year):\n",
    "    base_output_dir = \"data_by_year\"\n",
    "    parquet_dir = os.path.join(base_output_dir, \"parquet\")\n",
    "    arrow_dir = os.path.join(base_output_dir, \"arrow\")\n",
    "    \n",
    "    # Check if either Parquet or Feather file already exists for the year, skip if so\n",
    "    output_file_parquet = os.path.join(parquet_dir, f\"articles_{year}.parquet\")\n",
    "    output_file_feather = os.path.join(arrow_dir, f\"articles_{year}.feather\")\n",
    "    \n",
    "    if os.path.exists(output_file_parquet) or os.path.exists(output_file_feather):\n",
    "        logging.info(f\"File already exists for year {year}, skipping...\")\n",
    "        return\n",
    "    \n",
    "    start_time = datetime.now()\n",
    "    logging.info(f\"Start downloading data for year {year} at {start_time}\")\n",
    "    \n",
    "    try:\n",
    "        download_article_dataset_for_year(year)\n",
    "        end_time = datetime.now()\n",
    "        logging.info(f\"Done: {year} at {end_time}, duration: {end_time - start_time}\")\n",
    "    except Exception as e:\n",
    "        logging.error(f\"Error downloading data for year {year}: {e}\")"
   ]
  },
  {
   "cell_type": "code",
   "execution_count": null,
   "id": "33f85979",
   "metadata": {
    "lines_to_next_cell": 1
   },
   "outputs": [],
   "source": [
    "def run_in_parallel(year_values, max_workers=None):\n",
    "    if max_workers is None:\n",
    "        max_workers = os.cpu_count() - 1\n",
    "    with ProcessPoolExecutor(max_workers=max_workers) as executor:\n",
    "        futures = {executor.submit(process_year, year): year for year in year_values}\n",
    "        for future in as_completed(futures):\n",
    "            year = futures[future]\n",
    "            try:\n",
    "                future.result()\n",
    "            except Exception as e:\n",
    "                logging.error(f\"Year {year} generated an exception: {e}\")"
   ]
  },
  {
   "cell_type": "code",
   "execution_count": null,
   "id": "832a0a33",
   "metadata": {},
   "outputs": [],
   "source": [
    "if __name__ == \"__main__\":\n",
    "    # Example usage\n",
    "    year_values = [\"1774\"]\n",
    "    # Add years from 1798 to 1964 to the supported years\n",
    "    #year_values = year_values + [str(year) for year in range(1798, 1964)]\n",
    "    year_values = year_values + [str(year) for year in range(1798, 1964)]\n",
    "\n",
    "    run_in_parallel(year_values)  # max_workers defaults to os.cpu_count() - 1"
   ]
  }
 ],
 "metadata": {
  "jupytext": {
   "cell_metadata_filter": "-all",
   "main_language": "python",
   "notebook_metadata_filter": "-all"
  },
  "kernelspec": {
   "display_name": "Python 3 (ipykernel)",
   "language": "python",
   "name": "python3"
  },
  "language_info": {
   "codemirror_mode": {
    "name": "ipython",
    "version": 3
   },
   "file_extension": ".py",
   "mimetype": "text/x-python",
   "name": "python",
   "nbconvert_exporter": "python",
   "pygments_lexer": "ipython3",
   "version": "3.11.7"
  }
 },
 "nbformat": 4,
 "nbformat_minor": 5
}
