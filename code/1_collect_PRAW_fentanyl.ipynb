{
 "cells": [
  {
   "cell_type": "code",
   "execution_count": 1,
   "metadata": {},
   "outputs": [
    {
     "name": "stderr",
     "output_type": "stream",
     "text": [
      "Version 7.7.1 of praw is outdated. Version 7.8.1 was released Friday October 25, 2024.\n"
     ]
    }
   ],
   "source": [
    "import praw\n",
    "import pandas as pd\n",
    "import pprint\n",
    "import numpy\n",
    "\n",
    "CLIENT_ID = \"GpWem_ykBPLXyEGKsaXFOg\"\n",
    "CLIENT_SECRET = \"Or_ltwfIJnAbmYDvNkII6PXSJpFD1w\"\n",
    "USER_AGENT = \"Middle_Practice8658\"\n",
    "\n",
    "reddit = praw.Reddit(\n",
    "    client_id=CLIENT_ID,\n",
    "    client_secret = CLIENT_SECRET,\n",
    "    user_agent=USER_AGENT\n",
    ")\n",
    "\n",
    "subreddit = reddit.subreddit('fentanyl')\n"
   ]
  },
  {
   "cell_type": "code",
   "execution_count": 3,
   "metadata": {},
   "outputs": [],
   "source": [
    "\n",
    "# Fetch posts\n",
    "posts = []\n",
    "for submission in subreddit.new(limit = None):  # Adjust the limit as needed\n",
    "    posts.append([submission.id, submission.title, submission.selftext, submission.score, submission.num_comments, submission.created_utc, submission.author, submission.url])\n",
    "\n",
    "# Convert to DataFrame\n",
    "posts_df = pd.DataFrame(posts, columns=['post_id', 'title', 'body', 'score', 'num_comments', 'created_utc', 'author', 'url'])\n",
    "\n",
    "# Fetch comments\n",
    "comments = []\n",
    "for submission in subreddit.new(limit=998):  # Adjust the limit as needed\n",
    "    submission.comments.replace_more(limit = 0) #this limit is how many times the API will click \"more comments\" -- sadly, we can't do all, as we get a \"too many requests\" error\n",
    "    for comment in submission.comments.list():\n",
    "        comments.append([comment.id, comment.body, comment.score, comment.created_utc, comment.author, submission.id])\n",
    "\n",
    "# Convert to DataFrame\n",
    "comments_df = pd.DataFrame(comments, columns=['id', 'body', 'score', 'created_utc', 'author', 'post_id'])\n",
    "\n",
    "import ftfy\n",
    "\n",
    "# this will fix your encoding problem\n",
    "posts_df['body'] = posts_df['body'].map(ftfy.fix_encoding)\n",
    "comments_df['body'] = comments_df['body'].map(ftfy.fix_encoding)\n",
    "\n",
    "merged_df = comments_df.merge(posts_df, left_on='post_id', right_on='post_id', suffixes=('_comment', '_post'))\n"
   ]
  },
  {
   "cell_type": "code",
   "execution_count": 5,
   "metadata": {},
   "outputs": [],
   "source": [
    "#add to file \n",
    "# \n",
    "import os\n",
    "# add to existing CSV file\n",
    "csv_file = 'PRAW_r_fentanyl.csv'\n",
    "\n",
    "if os.path.exists(csv_file):\n",
    "    existing_posts_df = pd.read_csv(csv_file)\n",
    "    combined_df = pd.concat([existing_posts_df, merged_df]).drop_duplicates(subset='id', keep='last')\n",
    "    combined_df.to_csv(csv_file, index=False)\n",
    "else:\n",
    "    merged_df.to_csv(csv_file, index=False, encoding='utf-8')"
   ]
  },
  {
   "cell_type": "markdown",
   "metadata": {},
   "source": [
    "\n"
   ]
  }
 ],
 "metadata": {
  "kernelspec": {
   "display_name": "Python 3",
   "language": "python",
   "name": "python3"
  },
  "language_info": {
   "codemirror_mode": {
    "name": "ipython",
    "version": 3
   },
   "file_extension": ".py",
   "mimetype": "text/x-python",
   "name": "python",
   "nbconvert_exporter": "python",
   "pygments_lexer": "ipython3",
   "version": "3.12.6"
  }
 },
 "nbformat": 4,
 "nbformat_minor": 2
}
